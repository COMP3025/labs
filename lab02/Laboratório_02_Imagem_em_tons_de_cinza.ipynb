{
  "nbformat": 4,
  "nbformat_minor": 0,
  "metadata": {
    "colab": {
      "name": "Laboratório#02 - Imagem em tons de cinza.ipynb",
      "provenance": [],
      "authorship_tag": "ABX9TyPfhEGgG9Io37eTa79E53kS",
      "include_colab_link": true
    },
    "kernelspec": {
      "name": "python3",
      "display_name": "Python 3"
    }
  },
  "cells": [
    {
      "cell_type": "markdown",
      "metadata": {
        "id": "view-in-github",
        "colab_type": "text"
      },
      "source": [
        "<a href=\"https://colab.research.google.com/github/COMP3025/labs/blob/master/lab02/Laborat%C3%B3rio_02_Imagem_em_tons_de_cinza.ipynb\" target=\"_parent\"><img src=\"https://colab.research.google.com/assets/colab-badge.svg\" alt=\"Open In Colab\"/></a>"
      ]
    },
    {
      "cell_type": "markdown",
      "metadata": {
        "id": "cmAO-DMh9V2c",
        "colab_type": "text"
      },
      "source": [
        "# Laboratório #02\n",
        "\n",
        "Neste trabalho, iremos tratar das imagens em tons de cinza. Este trabalho é baseado no [artigo](https://brohrer.github.io/convert_rgb_to_grayscale.html).\n",
        "\n",
        "Este trabalho será efetuado em quatro partes:\n",
        "\n",
        "*  Utilizar a média para calcular a imagem em tons de cinza;\n",
        "*  Aplicar percepção de luminância dependente\n",
        "*  Aplicar compressão gama\n",
        "*  Aplicar aproximação linear\n",
        "\n",
        "Neste primeiro espaço de código, carregar as bibliotecas necessárias, e a imagem a ser trabalhada. Procurem uma imagem colorida, e plotem ela abaixo.\n",
        "\n",
        "Para todas as etapas, plotem a imagem resultante.\n",
        "\n"
      ]
    },
    {
      "cell_type": "code",
      "metadata": {
        "id": "4_4OrgpX9CLG",
        "colab_type": "code",
        "colab": {}
      },
      "source": [
        ""
      ],
      "execution_count": 0,
      "outputs": []
    },
    {
      "cell_type": "markdown",
      "metadata": {
        "id": "EFzWZFeZ_cBM",
        "colab_type": "text"
      },
      "source": [
        "## Utilizar a média para calcular a imagem em tons de cinza"
      ]
    },
    {
      "cell_type": "code",
      "metadata": {
        "id": "6KMyferD_e7t",
        "colab_type": "code",
        "colab": {}
      },
      "source": [
        ""
      ],
      "execution_count": 0,
      "outputs": []
    },
    {
      "cell_type": "markdown",
      "metadata": {
        "id": "eAMndCzm_ffE",
        "colab_type": "text"
      },
      "source": [
        "## Aplicar percepção de luminância dependente"
      ]
    },
    {
      "cell_type": "code",
      "metadata": {
        "id": "kjLXY7JC_iM7",
        "colab_type": "code",
        "colab": {}
      },
      "source": [
        ""
      ],
      "execution_count": 0,
      "outputs": []
    },
    {
      "cell_type": "markdown",
      "metadata": {
        "id": "qKFU5Vir_isU",
        "colab_type": "text"
      },
      "source": [
        "## Aplicar compressão gama"
      ]
    },
    {
      "cell_type": "code",
      "metadata": {
        "id": "aMVHXiZe_kDh",
        "colab_type": "code",
        "colab": {}
      },
      "source": [
        ""
      ],
      "execution_count": 0,
      "outputs": []
    },
    {
      "cell_type": "markdown",
      "metadata": {
        "id": "3dVN6Z8g_k0k",
        "colab_type": "text"
      },
      "source": [
        "## Aplicar aproximação linear"
      ]
    },
    {
      "cell_type": "code",
      "metadata": {
        "id": "1pzWxYUc_l84",
        "colab_type": "code",
        "colab": {}
      },
      "source": [
        ""
      ],
      "execution_count": 0,
      "outputs": []
    }
  ]
}